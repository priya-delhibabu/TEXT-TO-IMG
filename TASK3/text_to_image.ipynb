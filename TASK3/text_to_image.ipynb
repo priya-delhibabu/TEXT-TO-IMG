{
 "cells": [
  {
   "cell_type": "code",
   "execution_count": 1,
   "id": "333654ae-c7a2-4c30-b914-c7319525fd83",
   "metadata": {},
   "outputs": [
    {
     "name": "stdout",
     "output_type": "stream",
     "text": [
      "Using: cpu\n"
     ]
    },
    {
     "name": "stdin",
     "output_type": "stream",
     "text": [
      "How many descriptions do you want to enter?  1\n",
      "Enter description 1:  cat sitting on a beach\n"
     ]
    },
    {
     "name": "stdout",
     "output_type": "stream",
     "text": [
      "Embeddings saved as output_embeddings.pt\n",
      "Saved: output_images/generated_1.png\n"
     ]
    }
   ],
   "source": [
    "import os\n",
    "from PIL import Image, ImageDraw, ImageFont\n",
    "from sentence_transformers import SentenceTransformer\n",
    "import torch\n",
    "\n",
    "# Set device\n",
    "device = \"cuda\" if torch.cuda.is_available() else \"cpu\"\n",
    "print(\"Using:\", device)\n",
    "\n",
    "# Create output folder\n",
    "os.makedirs(\"output_images\", exist_ok=True)\n",
    "\n",
    "# Take user input\n",
    "descriptions = []\n",
    "n = int(input(\"How many descriptions do you want to enter? \"))\n",
    "for i in range(n):\n",
    "    desc = input(f\"Enter description {i + 1}: \")\n",
    "    descriptions.append(desc)\n",
    "\n",
    "# Load sentence transformer (small model)\n",
    "model = SentenceTransformer(\"all-MiniLM-L6-v2\").to(device)\n",
    "embeddings = model.encode(descriptions, convert_to_tensor=True)\n",
    "torch.save(embeddings, \"output_embeddings.pt\")\n",
    "print(\"Embeddings saved as output_embeddings.pt\")\n",
    "\n",
    "# Generate placeholder image with text\n",
    "def generate_image(text, index):\n",
    "    img = Image.new('RGB', (512, 512), color='white')\n",
    "    draw = ImageDraw.Draw(img)\n",
    "    \n",
    "    try:\n",
    "        font = ImageFont.truetype(\"arial.ttf\", 20)\n",
    "    except:\n",
    "        font = ImageFont.load_default()\n",
    "\n",
    "    draw.text((10, 10), text, fill='black', font=font)\n",
    "    path = f\"output_images/generated_{index + 1}.png\"\n",
    "    img.save(path)\n",
    "    print(f\"Saved: {path}\")\n",
    "\n",
    "# Generate and save all images\n",
    "for i, desc in enumerate(descriptions):\n",
    "    generate_image(desc, i)\n"
   ]
  },
  {
   "cell_type": "code",
   "execution_count": null,
   "id": "90d25a00-97f1-43d8-9e0d-a158a1f941b9",
   "metadata": {},
   "outputs": [],
   "source": []
  }
 ],
 "metadata": {
  "kernelspec": {
   "display_name": "Python 3 (ipykernel)",
   "language": "python",
   "name": "python3"
  },
  "language_info": {
   "codemirror_mode": {
    "name": "ipython",
    "version": 3
   },
   "file_extension": ".py",
   "mimetype": "text/x-python",
   "name": "python",
   "nbconvert_exporter": "python",
   "pygments_lexer": "ipython3",
   "version": "3.12.7"
  }
 },
 "nbformat": 4,
 "nbformat_minor": 5
}
